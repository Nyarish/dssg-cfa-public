{
 "cells": [
  {
   "cell_type": "code",
   "execution_count": 1,
   "metadata": {},
   "outputs": [],
   "source": [
    "# -----------------------------------------------------------\n",
    "# Walk through this directory, showing how each file contributes\n",
    "# to the overall pipeline.\n",
    "# -----------------------------------------------------------"
   ]
  },
  {
   "cell_type": "code",
   "execution_count": 2,
   "metadata": {},
   "outputs": [],
   "source": [
    "# for others to use this script, it will help to change this variable to\n",
    "# whatever the route it to the root of your dssg-cfa folder.\n",
    "ROUTETOROOTDIR = '/home/dssg-cfa/notebooks/dssg-cfa-public/'\n",
    "IMPORTSCRIPTSDIR = ROUTETOROOTDIR + \"util/py_files\"\n",
    "EXPORTDATADIR1 = ROUTETOROOTDIR + 'B_text_preproessing/csv_outputs/'\n",
    "UTILDIR = ROUTETOROOTDIR + 'util'\n",
    "JSONSDIR = ROUTETOROOTDIR + 'A_pdf_to_text/jsons_ke_gazettes/'\n",
    "import os\n",
    "import json \n",
    "import matplotlib.pyplot as plt\n",
    "import random\n",
    "import numpy as np\n",
    "from sklearn.cluster import KMeans\n",
    "\n",
    "os.chdir(IMPORTSCRIPTSDIR)\n",
    "import setup\n",
    "os.chdir(IMPORTSCRIPTSDIR)\n",
    "import orderingText\n",
    "import readingJsonsBulk\n",
    "import retoolingSegmentation\n",
    "import trainingDataForSpaCy"
   ]
  },
  {
   "cell_type": "markdown",
   "metadata": {},
   "source": [
    "In this demonstration below we will show how to preprocess text from a page in a Kenya gazette. The PDF we are processing can be found [here](https://data.connectedafrica.net/entities/241300.cc2c2a9f7521d1ce81135cffde04cb83de9111e6#page=3), although these links change, so it might also help to try [here](https://data.connectedafrica.net/search?filter%3Acollection_id=18&limit=30&q=%2205-July-2019%22)."
   ]
  },
  {
   "cell_type": "markdown",
   "metadata": {},
   "source": [
    "Let's pick up where we left off, by loading text from a gazette json:"
   ]
  },
  {
   "cell_type": "code",
   "execution_count": 3,
   "metadata": {},
   "outputs": [
    {
     "name": "stdout",
     "output_type": "stream",
     "text": [
      "GAZETTE NOTICE NO. 5866 \n",
      "THE LAND REGISTRATION ACT \n",
      "(No. 3 of 2012) \n",
      "ISSUE OF A PROVISIONAL CERTIFICATE \n",
      "WHEREAS Abdalla Mohamed Abdalla, of P.O. Box 90145, Mombasa in the Republic of Kenya, is registered as proprietor in fee simple of all that piece of land containing 0.0163 hectare or thereabouts, known as Plot No. Mombasa/Block XVI/598, situate, in Mombasa District, and whereas sufficient evidence has been adduced to show that the said certificate of title has been lost, notice is given that after the expiration of sixty (60) days from the date hereof, I shall ssue a provisional certificate of title provided that no objection has been received within that period. \n",
      "Dated the 5th July, 2019. \n",
      "J. G. WANJOHI, \n",
      "MR/6508092 Registrar of Titles, Mombasa. GAZETTE NOTICE NO. 5867 \n",
      "THE LAND REGISTRATION ACT \n",
      "(No. 3 of 2012) \n",
      "ISSUE OF A PROVISIONAL CERTIFICATE \n",
      "WHEREAS Fatma Eric Edward Barallon, of P.O. Box 1851- 80200, Malindi in the Republic of Kenya, is registered as proprietor lessee from \n"
     ]
    }
   ],
   "source": [
    "gazetteNum, pageNum = 0, 2\n",
    "jsonDict = orderingText.readJsonIntoDict(JSONSDIR, \"gazette-ke-vol-cxxi-no-85-dated-05-july-2019\")\n",
    "text = orderingText.readPage(jsonDict, pageNum)\n",
    "print(text[0:1000])"
   ]
  },
  {
   "cell_type": "markdown",
   "metadata": {},
   "source": [
    "Next, we want to split this text into its separate segments. This is done in retoolingSegmentation."
   ]
  },
  {
   "cell_type": "code",
   "execution_count": 4,
   "metadata": {},
   "outputs": [
    {
     "data": {
      "text/plain": [
       "[<retoolingSegmentation.Segment at 0x7fa638f008d0>,\n",
       " <retoolingSegmentation.Segment at 0x7fa669ed42d0>,\n",
       " <retoolingSegmentation.Segment at 0x7fa669ed4690>,\n",
       " <retoolingSegmentation.Segment at 0x7fa669ed4390>,\n",
       " <retoolingSegmentation.Segment at 0x7fa669ed4090>,\n",
       " <retoolingSegmentation.Segment at 0x7fa638f00c50>,\n",
       " <retoolingSegmentation.Segment at 0x7fa63b252f10>]"
      ]
     },
     "execution_count": 4,
     "metadata": {},
     "output_type": "execute_result"
    }
   ],
   "source": [
    "segments = retoolingSegmentation.getSegments(text)\n",
    "segments"
   ]
  },
  {
   "cell_type": "markdown",
   "metadata": {},
   "source": [
    "This output isn't very helpful. Another point: we only capture seven segments here, when it looks like there are eight on the page. Let's demonstrate how we can see more info on these segments while spotting the bug.\n",
    "\n",
    "A segment is an object, and has many attributes (see orderingText.ipynb for more detail). One of them is text."
   ]
  },
  {
   "cell_type": "code",
   "execution_count": 5,
   "metadata": {},
   "outputs": [
    {
     "name": "stdout",
     "output_type": "stream",
     "text": [
      "GAZETTE NOTICE NO. 5866 \n",
      "THE LAND REGISTRATION ACT \n",
      "(No. 3 of 2012) \n",
      "ISSUE OF A PROVISIONAL CERTIFICATE \n",
      "WHEREAS Abdalla Mohamed Abdalla, of P.O. Box 90145, Mombasa in the Republic of Kenya, is registered as proprietor in fee simple of all that piece of land containing 0.0163 hectare or thereabouts, known as Plot No. Mombasa/Block XVI/598, situate, in Mombasa District, and whereas sufficient evidence has been adduced to show that the said certificate of title has been lost, notice is given that after the expiration of sixty (60) days from the date hereof, I shall ssue a provisional certificate of title provided that no objection has been received within that period. \n",
      "Dated the 5th July, 2019. \n",
      "J. G. WANJOHI, \n",
      "MR/6508092 Registrar of Titles, Mombasa. \n"
     ]
    }
   ],
   "source": [
    "print(segments[0].text)"
   ]
  },
  {
   "cell_type": "markdown",
   "metadata": {},
   "source": [
    "We have found the bug! This sixth segment contains two segments when it should have only one. The cause is the superfluous comma right in the middle, in 'GAZETTE NOTICE NO. 587,2'. \n",
    "\n",
    "Segments have lots of other attributes. They are all extracted uses regular expressions, and are thus far from perfectly accurate. They will be quite useful, however, as training data for our spaCy model later on. \n",
    "\n",
    "Let's take a look at some attributes that we pulled."
   ]
  },
  {
   "cell_type": "code",
   "execution_count": 10,
   "metadata": {},
   "outputs": [
    {
     "name": "stdout",
     "output_type": "stream",
     "text": [
      "Abdalla Mohamed Abdalla\n",
      "P.O. Box 90145, Mombasa in the Republic of Kenya\n",
      "J. G. WANJOHI\n",
      "5th July, 2019\n"
     ]
    }
   ],
   "source": [
    "print(segments[0].name)\n",
    "print(segments[0].address)\n",
    "print(segments[0].signator)\n",
    "print(segments[0].date)"
   ]
  },
  {
   "cell_type": "markdown",
   "metadata": {},
   "source": [
    "We can conveniently save all of the information in a segment object to a csv in this way:"
   ]
  },
  {
   "cell_type": "code",
   "execution_count": 7,
   "metadata": {},
   "outputs": [],
   "source": [
    "%%capture\n",
    "# when writing a csv there is a lot of annoying output, the above line gets rid of it\n",
    "\n",
    "\n",
    "readingJsonsBulk.writeEntireGazetteToCsv(0)     \n",
    "# this script uses gazette numbers instead of names so that they can be converted in bulk quickly"
   ]
  },
  {
   "cell_type": "markdown",
   "metadata": {},
   "source": [
    "The summary information of a whole bunch of these segment objects can be found in csv_outputs_train. Go and explore and see what's in there!\n",
    "\n",
    "The final thing to display is that we have written a script which easily uses all of this csv data to create training data for our spaCy model. It is essentially a quick and dirty, highly imperfect method for doing entity extraction."
   ]
  },
  {
   "cell_type": "code",
   "execution_count": 12,
   "metadata": {},
   "outputs": [
    {
     "name": "stdout",
     "output_type": "stream",
     "text": [
      "WHEREAS Fatma Eric Edward Barallon, of P.O. Box 1851- 80200, Malindi in the Republic of Kenya, is registered as proprietor lessee from the precise properties limited for a term of 99 years, from Ist December, 1993, subject to annual rent of KSh. 152 per annum, of all that piece of land known as Apartment number 4, Block \"B\" Ground Floor, erected on plot number 11954 Malindi, situate in the district of Malindi, registered as C.R. 53765, and whereas sufficient evidence has been adduced to show that the said certificate of lease has been lost, notice is given that after the expiration of sixty (60) days from the date hereof, I shall issue a provisional certificate of title provided that no objection has been received within that period.\n",
      "\n",
      "LAND REGISTRATION: plot number 11954 Malindi\n",
      "DEED STATUS: lost\n",
      "OWNERSHIP STATUS: proprietor lessee\n",
      "PERSON: Fatma Eric Edward Barallon\n",
      "OWNER ADDRESS: P.O. Box 1851- 80200, Malindi in the Republic of Kenya\n",
      "DISTRICT: Malindi\n"
     ]
    }
   ],
   "source": [
    "firstExample = trainingDataForSpaCy.exportTrainData(0)[1]\n",
    "trainingDataForSpaCy.pullFound(firstExample)"
   ]
  },
  {
   "cell_type": "markdown",
   "metadata": {},
   "source": [
    "Not perfect, but also not bad!"
   ]
  },
  {
   "cell_type": "code",
   "execution_count": null,
   "metadata": {},
   "outputs": [],
   "source": []
  }
 ],
 "metadata": {
  "kernelspec": {
   "display_name": "py37_default",
   "language": "python",
   "name": "conda-env-py37_default-py"
  },
  "language_info": {
   "codemirror_mode": {
    "name": "ipython",
    "version": 3
   },
   "file_extension": ".py",
   "mimetype": "text/x-python",
   "name": "python",
   "nbconvert_exporter": "python",
   "pygments_lexer": "ipython3",
   "version": "3.7.7"
  }
 },
 "nbformat": 4,
 "nbformat_minor": 4
}
