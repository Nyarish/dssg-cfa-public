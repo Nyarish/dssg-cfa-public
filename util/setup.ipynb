{
 "cells": [
  {
   "cell_type": "code",
   "execution_count": 1,
   "metadata": {},
   "outputs": [],
   "source": [
    "# -----------------------------------------------------------\n",
    "# Creating some basic functions that Robbie tends to use\n",
    "# in his workflow throughout directories\n",
    "#\n",
    "# Written primarily by Robbie (thus far)\n",
    "# -----------------------------------------------------------"
   ]
  },
  {
   "cell_type": "code",
   "execution_count": 8,
   "metadata": {},
   "outputs": [],
   "source": [
    "# for others to use this script, it will help to change this variable to\n",
    "# whatever the route it to the root of your dssg-cfa folder.\n",
    "ROUTETOROOTDIR = '/home/dssg-cfa/notebooks/dssg-cfa-public/'\n",
    "IMPORTSCRIPTSDIR = ROUTETOROOTDIR + \"util/py_files\"\n",
    "EXPORTDATADIR1 = ROUTETOROOTDIR + 'B_text_preproessing/csv_outputs/'\n",
    "UTILDIR = ROUTETOROOTDIR + 'util'\n",
    "JSONSDIR = ROUTETOROOTDIR + 'A_pdf_to_text/jsons_ke_gazettes/'\n",
    "ADIR = ROUTETOROOTDIR + 'A_pdf_to_text/'\n",
    "BDIR = ROUTETOROOTDIR + 'B_text_preprocessing/'\n",
    "CDIR = ROUTETOROOTDIR + 'C_build_ner_model/'\n",
    "DDIR = ROUTETOROOTDIR + 'D_build_network/'\n",
    "import os            \n",
    "import csv"
   ]
  },
  {
   "cell_type": "code",
   "execution_count": 55,
   "metadata": {},
   "outputs": [],
   "source": [
    "def convertToPy(filename, filepath):\n",
    "    \"\"\"Convert a jupyter notebook script into .py format.\n",
    "    .py format of the notebook is always created in 'util/py_files'\n",
    "    \n",
    "    args:\n",
    "    filename: the name of the jupyter notebook you are converting (also name for the py file conversion).\n",
    "    filepath: directory to find the notebook in.\"\"\"\n",
    "    \n",
    "    outputDir = UTILDIR + 'py_files'\n",
    "    get_ipython().run_line_magic('cd', '{filepath}')\n",
    "    get_ipython().system(\"jupyter nbconvert --output-dir={outputDir} --to python {filename}\")\n",
    "    \n",
    "def convertToHTML(filename, filepath):\n",
    "    \"\"\"Convert a jupyter notebook script into .html format.\n",
    "    .html format of the notebook is created in the same directory that it is found in.\n",
    "    \n",
    "    args:\n",
    "    filename: the name of the jupyter notebook you are converting (also name for the py file conversion).\n",
    "    filepath: directory to find the notebook in.\"\"\"\n",
    "    \n",
    "    get_ipython().run_line_magic('cd', '{filepath}')\n",
    "    get_ipython().system(\"jupyter nbconvert --to html {filename}\")\n",
    "    \n",
    "def convertAll():\n",
    "    \"\"\"Convert all scripts written thus far into .py files so that they can be imported.\n",
    "    Also convert all walkthrough notebooks into html format.\"\"\"\n",
    "    \n",
    "    convertToPy(\"setup\", UTILDIR)\n",
    "    convertToPy(\"orderingText\", ADIR)\n",
    "    convertToPy(\"readingJsonsBulk\", BDIR)\n",
    "    convertToPy(\"retoolingSegmentation\", BDIR)\n",
    "    convertToPy(\"trainingDataForSpaCy\", BDIR)\n",
    "    convertToPy(\"C_exportNERAPI\", CDIR)\n",
    "    convertToPy(\"networkClasses\", DDIR)\n",
    "    convertToPy(\"networkInfrastructure\", DDIR)\n",
    "    convertToHTML(\"walkthrough_notebook\", ADIR)\n",
    "    convertToHTML(\"walkthrough_notebook\", BDIR)\n",
    "    convertToHTML(\"walkthrough_notebook\", DDIR)\n",
    "    \n",
    "def writeToCsv(filename, lines, filepath):\n",
    "    \"\"\"Write a csv to @param filepath with name @param filename. \n",
    "    Each line is one entry of @param lines.\n",
    "    \n",
    "    args:\n",
    "    filename: the name of the csv you are creating.\n",
    "    lines: a list, each entry of which is one row in the csv.\n",
    "        Each entry in the outer list is typicall a list in its own right,\n",
    "        with each entry in each inner list occupying one cell.\n",
    "    filepath: te directory to write this csv to.\"\"\"\n",
    "    \n",
    "    get_ipython().run_line_magic('cd', '~')\n",
    "    get_ipython().run_line_magic('cd', '{filepath}')\n",
    "    if len(filename) < 5 or filename[-4:] != \".csv\":\n",
    "        filename = filename + \".csv\"\n",
    "    with open(filename, 'w', newline='') as csvfile:\n",
    "        report = csv.writer(csvfile)\n",
    "        for line in lines:\n",
    "            print(line)\n",
    "            report.writerow(line)\n",
    "            \n",
    "def writeTxt(filename, text, filepath):\n",
    "    \"\"\"Write a csv to @param filepath with name @param filename.\n",
    "    \n",
    "    args:\n",
    "    filename: the name of the csv you are creating.\n",
    "    text: a string to write to txt.\n",
    "    filepath: te directory to write this csv to.\"\"\"\n",
    "    \n",
    "    get_ipython().run_line_magic('cd', '{filepath}')\n",
    "    if len(filename) < 5 or filename[-4:] != \".txt\":\n",
    "        filename = filename + \".txt\"\n",
    "    fileObj = open(filename, \"w\")\n",
    "    fileObj.write(text)\n",
    "    fileObj.close()"
   ]
  },
  {
   "cell_type": "code",
   "execution_count": 60,
   "metadata": {},
   "outputs": [],
   "source": [
    "#convertAll()\n",
    "#convertToPy(\"setup\")"
   ]
  },
  {
   "cell_type": "code",
   "execution_count": null,
   "metadata": {},
   "outputs": [],
   "source": []
  },
  {
   "cell_type": "code",
   "execution_count": null,
   "metadata": {},
   "outputs": [],
   "source": []
  },
  {
   "cell_type": "code",
   "execution_count": null,
   "metadata": {},
   "outputs": [],
   "source": []
  }
 ],
 "metadata": {
  "kernelspec": {
   "display_name": "py37_default",
   "language": "python",
   "name": "conda-env-py37_default-py"
  },
  "language_info": {
   "codemirror_mode": {
    "name": "ipython",
    "version": 3
   },
   "file_extension": ".py",
   "mimetype": "text/x-python",
   "name": "python",
   "nbconvert_exporter": "python",
   "pygments_lexer": "ipython3",
   "version": "3.7.7"
  }
 },
 "nbformat": 4,
 "nbformat_minor": 4
}
