{
 "cells": [
  {
   "cell_type": "code",
   "execution_count": null,
   "metadata": {},
   "outputs": [],
   "source": [
    "import os\n",
    "import json\n",
    "import requests\n",
    "\n",
    "\n",
    "import check_gazette_filenames as cf\n",
    "import json_extraction as je\n",
    "import write_urls as wu \n",
    "import dest_fn_from_url as df"
   ]
  },
  {
   "cell_type": "code",
   "execution_count": null,
   "metadata": {},
   "outputs": [],
   "source": [
    "'''\n",
    "RENAME FILES TO CORRECT POTENTIAL ISSUES\n",
    "- Issues described in \"check_gazette_filenames\" file\n",
    "\n",
    "\"check_filenames\" will print information and instructions\n",
    "Manually check that output is reasonable; approve or deny rename request\n",
    "We recommend cross-checking suggested renames with the gazettes in the original database\n",
    "\n",
    "Note that, as the `rename_gazettes` code stands, gazettes that are incorrectly labelled as \n",
    "special issues are automatically renamed (without prompting). Change this if you would like to.\n",
    "\n",
    "-- The functions for checking special issues are extremely reliable. \n",
    "-- The dated functions are relatively reliable, but occasionally misidentify dates.\n",
    "At minimum, ensure that the dates are real dates. \n",
    "-- However, the volume/issue numbering checks return errors sometimes. Manually confirm these!\n",
    "'''\n",
    "\n",
    "def in_date_range(f, yr_start, yr_end): \n",
    "    '''\n",
    "    Filter for files dated beginning at yr_start, up to but not including yr_end\n",
    "    '''\n",
    "    for yr in range(yr_start, yr_end + 1): \n",
    "        if str(yr) in f: \n",
    "            return True\n",
    "    return False\n",
    "\n",
    "filepath = \"/home/dssg-cfa/ke-gazettes/\"\n",
    "filename_list = [f for f in os.listdir(filepath) if in_date_range(f, 2000, 2009)]\n",
    "\n",
    "for fn in filename_list:\n",
    "    with open(filepath + fn) as file:\n",
    "        gazette_data = json.load(file)\n",
    "    cf.check_filename(fn, gazette_data)"
   ]
  },
  {
   "cell_type": "code",
   "execution_count": null,
   "metadata": {},
   "outputs": [],
   "source": [
    "'''\n",
    "Note: \n",
    "- By this weekend (8/22), there will be additional code for associating\n",
    "files and filenames in our databases with unique identifiers in the Connected Africa\n",
    "and Gazeti databases. \n",
    "- This will be necessary for facilitating a data transfer. \n",
    "'''"
   ]
  }
 ],
 "metadata": {
  "kernelspec": {
   "display_name": "py37_default",
   "language": "python",
   "name": "conda-env-py37_default-py"
  },
  "language_info": {
   "codemirror_mode": {
    "name": "ipython",
    "version": 3
   },
   "file_extension": ".py",
   "mimetype": "text/x-python",
   "name": "python",
   "nbconvert_exporter": "python",
   "pygments_lexer": "ipython3",
   "version": "3.7.7"
  }
 },
 "nbformat": 4,
 "nbformat_minor": 4
}
