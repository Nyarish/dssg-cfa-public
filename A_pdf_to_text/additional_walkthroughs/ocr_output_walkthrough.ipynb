{
 "cells": [
  {
   "cell_type": "markdown",
   "metadata": {},
   "source": [
    "Once you have submitted a PDF to Microsoft's OCR service -- Read API or Form Recognizer -- and saved the file, you will get a JSON output. This file is meant to walk you through what that output is. "
   ]
  },
  {
   "cell_type": "code",
   "execution_count": 2,
   "metadata": {},
   "outputs": [],
   "source": [
    "import json"
   ]
  },
  {
   "cell_type": "code",
   "execution_count": 6,
   "metadata": {},
   "outputs": [],
   "source": [
    "with open(\"test_gazette_read.txt\") as f: \n",
    "    data = json.load(f)"
   ]
  },
  {
   "cell_type": "markdown",
   "metadata": {},
   "source": [
    "## READ API"
   ]
  },
  {
   "cell_type": "markdown",
   "metadata": {},
   "source": [
    "The below Gazette is Vol. CXXI-No. 176, dated 27th December 2019. You can find the original on the Connected Africa website [here](https://data.connectedafrica.net/entities/410092.40e70c195e3249476cc0da8eb7854ac112236e7e). For brevity, we have only included the first two pages of the Gazette. \n",
    "\n",
    "The below walks through a nested data structure by layer. "
   ]
  },
  {
   "cell_type": "markdown",
   "metadata": {},
   "source": [
    "### 1. Outer structure\n",
    "\n",
    "* `status`: If you got a successful output, this will be \"succeeded.\" If not, this will include an error message describing why the Read API failed on this input. (This is usually due to an link that does not point to PDF data or a PDF that is not sized correctly.) \n",
    "* `createdDateTime`: Date and time when the call was submitted\n",
    "* `lastUpdatedDateTime`: Data and time when the data finished processing and was retrieved from Microsoft's server. \n",
    "* `analyzeResult`: This is what you care about."
   ]
  },
  {
   "cell_type": "code",
   "execution_count": 8,
   "metadata": {},
   "outputs": [
    {
     "data": {
      "text/plain": [
       "dict_keys(['status', 'createdDateTime', 'lastUpdatedDateTime', 'analyzeResult'])"
      ]
     },
     "execution_count": 8,
     "metadata": {},
     "output_type": "execute_result"
    }
   ],
   "source": [
    "data.keys()"
   ]
  },
  {
   "cell_type": "markdown",
   "metadata": {},
   "source": [
    "### 2. analyzeResult\n",
    "\n",
    "`analyzeResult` contains two key/value pairs: \n",
    "* The version of the Read API that was used to generate the output (this may become relevant as updates are released which improve the OCR). \n",
    "* The actual results of the analysis"
   ]
  },
  {
   "cell_type": "code",
   "execution_count": 10,
   "metadata": {},
   "outputs": [
    {
     "data": {
      "text/plain": [
       "dict_keys(['version', 'readResults'])"
      ]
     },
     "execution_count": 10,
     "metadata": {},
     "output_type": "execute_result"
    }
   ],
   "source": [
    "data['analyzeResult'].keys()"
   ]
  },
  {
   "cell_type": "markdown",
   "metadata": {},
   "source": [
    "We (August 2020) used the Read API version 3.0.0: "
   ]
  },
  {
   "cell_type": "code",
   "execution_count": 11,
   "metadata": {},
   "outputs": [
    {
     "data": {
      "text/plain": [
       "'3.0.0'"
      ]
     },
     "execution_count": 11,
     "metadata": {},
     "output_type": "execute_result"
    }
   ],
   "source": [
    "data['analyzeResult']['version']"
   ]
  },
  {
   "cell_type": "markdown",
   "metadata": {},
   "source": [
    "### 3. readResults: actual text of the PDF!\n",
    "\n",
    "`readResults` will give you a list of all of the pages in the PDF. (Each element represents a single page.) "
   ]
  },
  {
   "cell_type": "code",
   "execution_count": 14,
   "metadata": {},
   "outputs": [
    {
     "name": "stdout",
     "output_type": "stream",
     "text": [
      "readResults type: <class 'list'>\n",
      "number of pages: 2\n"
     ]
    }
   ],
   "source": [
    "pages_list = data['analyzeResult']['readResults']\n",
    "print(\"readResults type: \" + str(type(pages_list)))\n",
    "print(\"number of pages: \" + str(len(pages_list)))"
   ]
  },
  {
   "cell_type": "markdown",
   "metadata": {},
   "source": [
    "### 4. A single page\n",
    "\n",
    "A single page is represented as another dictionary: \n",
    "* `page`: the index of the page\n",
    "* `angle`: the angle of the page -- Read API guesses and corrects rotated pages\n",
    "* `width`: width of the page\n",
    "* `height`: height of the page\n",
    "* `unit`: unit of width/height measurement (default is inch) \n",
    "* `lines`: a list of all \"lines\" on the page"
   ]
  },
  {
   "cell_type": "code",
   "execution_count": 21,
   "metadata": {},
   "outputs": [
    {
     "data": {
      "text/plain": [
       "dict_keys(['page', 'angle', 'width', 'height', 'unit', 'lines'])"
      ]
     },
     "execution_count": 21,
     "metadata": {},
     "output_type": "execute_result"
    }
   ],
   "source": [
    "second_page = pages_list[1]\n",
    "second_page.keys()"
   ]
  },
  {
   "cell_type": "code",
   "execution_count": 24,
   "metadata": {},
   "outputs": [
    {
     "name": "stdout",
     "output_type": "stream",
     "text": [
      "Page index: 2\n",
      "Height: 11.6633\n"
     ]
    }
   ],
   "source": [
    "print(\"Page index: \" + str(second_page['page']))\n",
    "print(\"Height: \" + str(second_page['height']))"
   ]
  },
  {
   "cell_type": "markdown",
   "metadata": {},
   "source": [
    "### 5. Lines on the page\n",
    "\n",
    "Each element of the `lines` list is a dictionary with the following information:\n",
    "* `boundingBox`: a list of the x-y coordinates of each of the four corners representing where the line is located on the page. \n",
    "* `text`: the text on that line\n",
    "* `words`: a list of all of the words on that line, with additional information for each of those words.\n",
    "\n",
    "Note that a single \"line\" does not read across the entire page. When the Read API encounters whitespace between two blocks of text, it will split those blocks into two separate lines. This is crucial; this means that the Read API identifies separate columns. \n",
    "\n",
    "### 6. Words in the line\n",
    "\n",
    "Each element of the `words` list is (another) dictionary with the following information: \n",
    "* `boundingBox`: the bounding box for that particular word\n",
    "* `text`: the text of that word\n",
    "* `confidence`: the confidence rating (0-1) that this word was read correctly. \n",
    "\n",
    "We found that approximately 0.1% of words in all of the Gazettes we process had a confidence rating less than 70%, and 0.006% had a confidence rating less than 50%. The Read API calculates confidence in part based on an English lexicon, and most of the words with relatively lower confidence ratings were names of people, organizations, and places. \n",
    "\n",
    "**Here are the first three lines of the second page**. We can see here the page number and the title of the page (\"THE KENYA GAZETTE\" + the date of publication). "
   ]
  },
  {
   "cell_type": "code",
   "execution_count": 27,
   "metadata": {},
   "outputs": [
    {
     "data": {
      "text/plain": [
       "[{'boundingBox': [1.0502,\n",
       "   0.4667,\n",
       "   1.3403,\n",
       "   0.47,\n",
       "   1.3403,\n",
       "   0.5933,\n",
       "   1.0469,\n",
       "   0.5867],\n",
       "  'text': '4942',\n",
       "  'words': [{'boundingBox': [1.0469,\n",
       "     0.4667,\n",
       "     1.3347,\n",
       "     0.4698,\n",
       "     1.3326,\n",
       "     0.5931,\n",
       "     1.0469,\n",
       "     0.5882],\n",
       "    'text': '4942',\n",
       "    'confidence': 0.983}]},\n",
       " {'boundingBox': [3.4907, 0.4633, 4.9643, 0.4633, 4.9643, 0.6, 3.494, 0.6033],\n",
       "  'text': 'THE KENYA GAZETTE',\n",
       "  'words': [{'boundingBox': [3.4939,\n",
       "     0.4641,\n",
       "     3.755,\n",
       "     0.467,\n",
       "     3.7555,\n",
       "     0.6037,\n",
       "     3.495,\n",
       "     0.6062],\n",
       "    'text': 'THE',\n",
       "    'confidence': 0.983},\n",
       "   {'boundingBox': [3.7829,\n",
       "     0.4673,\n",
       "     4.2771,\n",
       "     0.4691,\n",
       "     4.2765,\n",
       "     0.601,\n",
       "     3.7834,\n",
       "     0.6035],\n",
       "    'text': 'KENYA',\n",
       "    'confidence': 0.986},\n",
       "   {'boundingBox': [4.3051,\n",
       "     0.4691,\n",
       "     4.9577,\n",
       "     0.4642,\n",
       "     4.9558,\n",
       "     0.6022,\n",
       "     4.3045,\n",
       "     0.6009],\n",
       "    'text': 'GAZETTE',\n",
       "    'confidence': 0.985}]},\n",
       " {'boundingBox': [6.1746,\n",
       "   0.4667,\n",
       "   7.3982,\n",
       "   0.4567,\n",
       "   7.4015,\n",
       "   0.6033,\n",
       "   6.1746,\n",
       "   0.61],\n",
       "  'text': '27th December, 2019',\n",
       "  'words': [{'boundingBox': [6.1819,\n",
       "     0.4695,\n",
       "     6.4211,\n",
       "     0.4717,\n",
       "     6.4153,\n",
       "     0.61,\n",
       "     6.176,\n",
       "     0.6096],\n",
       "    'text': '27th',\n",
       "    'confidence': 0.987},\n",
       "   {'boundingBox': [6.4487,\n",
       "     0.4718,\n",
       "     7.0741,\n",
       "     0.467,\n",
       "     7.0689,\n",
       "     0.6084,\n",
       "     6.4429,\n",
       "     0.61],\n",
       "    'text': 'December,',\n",
       "    'confidence': 0.981},\n",
       "   {'boundingBox': [7.1016,\n",
       "     0.4664,\n",
       "     7.3959,\n",
       "     0.4587,\n",
       "     7.391,\n",
       "     0.605,\n",
       "     7.0965,\n",
       "     0.6082],\n",
       "    'text': '2019',\n",
       "    'confidence': 0.983}]}]"
      ]
     },
     "execution_count": 27,
     "metadata": {},
     "output_type": "execute_result"
    }
   ],
   "source": [
    "second_page['lines'][:3]"
   ]
  },
  {
   "cell_type": "markdown",
   "metadata": {},
   "source": [
    "And here are a few lines from the middle of the page, which give us a bit of information from Gazette notices, which we can divide and knit together based on the geometric information of the bounding boxes: "
   ]
  },
  {
   "cell_type": "code",
   "execution_count": 100,
   "metadata": {},
   "outputs": [
    {
     "data": {
      "text/plain": [
       "[{'boundingBox': [4.3842,\n",
       "   5.7733,\n",
       "   5.7111,\n",
       "   5.7633,\n",
       "   5.7145,\n",
       "   5.8867,\n",
       "   4.3842,\n",
       "   5.8933],\n",
       "  'text': 'GAZETTE NOTICE NO. 12160',\n",
       "  'words': [{'boundingBox': [4.4006,\n",
       "     5.7766,\n",
       "     4.8182,\n",
       "     5.7808,\n",
       "     4.811,\n",
       "     5.893,\n",
       "     4.3932,\n",
       "     5.8921],\n",
       "    'text': 'GAZETTE',\n",
       "    'confidence': 0.984},\n",
       "   {'boundingBox': [4.8409,\n",
       "     5.7808,\n",
       "     5.1902,\n",
       "     5.7787,\n",
       "     5.1833,\n",
       "     5.8923,\n",
       "     4.8338,\n",
       "     5.893],\n",
       "    'text': 'NOTICE',\n",
       "    'confidence': 0.983},\n",
       "   {'boundingBox': [5.213,\n",
       "     5.7783,\n",
       "     5.3952,\n",
       "     5.7751,\n",
       "     5.3884,\n",
       "     5.8913,\n",
       "     5.2061,\n",
       "     5.8922],\n",
       "    'text': 'NO.',\n",
       "    'confidence': 0.983},\n",
       "   {'boundingBox': [5.418,\n",
       "     5.7746,\n",
       "     5.714,\n",
       "     5.7663,\n",
       "     5.7073,\n",
       "     5.8888,\n",
       "     5.4112,\n",
       "     5.8911],\n",
       "    'text': '12160',\n",
       "    'confidence': 0.986}]},\n",
       " {'boundingBox': [1.0836,\n",
       "   5.97,\n",
       "   1.9737,\n",
       "   5.9667,\n",
       "   1.9771,\n",
       "   6.0767,\n",
       "   1.0836,\n",
       "   6.0833],\n",
       "  'text': 'Paul Obiero Olang*',\n",
       "  'words': [{'boundingBox': [1.0919,\n",
       "     5.9705,\n",
       "     1.2729,\n",
       "     5.9708,\n",
       "     1.2689,\n",
       "     6.0833,\n",
       "     1.0857,\n",
       "     6.0808],\n",
       "    'text': 'Paul',\n",
       "    'confidence': 0.987},\n",
       "   {'boundingBox': [1.2946,\n",
       "     5.9708,\n",
       "     1.6131,\n",
       "     5.97,\n",
       "     1.6134,\n",
       "     6.0826,\n",
       "     1.2909,\n",
       "     6.0833],\n",
       "    'text': 'Obiero',\n",
       "    'confidence': 0.985},\n",
       "   {'boundingBox': [1.6348,\n",
       "     5.9698,\n",
       "     1.9678,\n",
       "     5.967,\n",
       "     1.9725,\n",
       "     6.0692,\n",
       "     1.6354,\n",
       "     6.082],\n",
       "    'text': 'Olang*',\n",
       "    'confidence': 0.985}]},\n",
       " {'boundingBox': [5.071, 5.99, 6.9081, 5.9867, 6.9081, 6.1067, 5.071, 6.1067],\n",
       "  'text': 'THE CRIMINAL PROCEDURE CODE',\n",
       "  'words': [{'boundingBox': [5.0769,\n",
       "     5.9906,\n",
       "     5.2989,\n",
       "     5.9909,\n",
       "     5.2962,\n",
       "     6.11,\n",
       "     5.0737,\n",
       "     6.11],\n",
       "    'text': 'THE',\n",
       "    'confidence': 0.988},\n",
       "   {'boundingBox': [5.3227,\n",
       "     5.9909,\n",
       "     5.8699,\n",
       "     5.9912,\n",
       "     5.8684,\n",
       "     6.11,\n",
       "     5.3201,\n",
       "     6.11],\n",
       "    'text': 'CRIMINAL',\n",
       "    'confidence': 0.983},\n",
       "   {'boundingBox': [5.8937,\n",
       "     5.9912,\n",
       "     6.5678,\n",
       "     5.9906,\n",
       "     6.5677,\n",
       "     6.11,\n",
       "     5.8922,\n",
       "     6.11],\n",
       "    'text': 'PROCEDURE',\n",
       "    'confidence': 0.978},\n",
       "   {'boundingBox': [6.5916,\n",
       "     5.9905,\n",
       "     6.9088,\n",
       "     5.9899,\n",
       "     6.9094,\n",
       "     6.11,\n",
       "     6.5915,\n",
       "     6.11],\n",
       "    'text': 'CODE',\n",
       "    'confidence': 0.987}]},\n",
       " {'boundingBox': [1.0735, 6.0867, 2.0771, 6.0833, 2.0771, 6.2, 1.0735, 6.2033],\n",
       "  'text': 'Robi Werema Bocha*',\n",
       "  'words': [{'boundingBox': [1.0783,\n",
       "     6.0913,\n",
       "     1.3033,\n",
       "     6.0888,\n",
       "     1.3024,\n",
       "     6.2028,\n",
       "     1.0756,\n",
       "     6.202],\n",
       "    'text': 'Robi',\n",
       "    'confidence': 0.986},\n",
       "   {'boundingBox': [1.3251,\n",
       "     6.0885,\n",
       "     1.6953,\n",
       "     6.0861,\n",
       "     1.6976,\n",
       "     6.2033,\n",
       "     1.3243,\n",
       "     6.2028],\n",
       "    'text': 'Werema',\n",
       "    'confidence': 0.983},\n",
       "   {'boundingBox': [1.7171,\n",
       "     6.086,\n",
       "     2.0728,\n",
       "     6.0856,\n",
       "     2.0781,\n",
       "     6.2033,\n",
       "     1.7195,\n",
       "     6.2033],\n",
       "    'text': 'Bocha*',\n",
       "    'confidence': 0.971}]}]"
      ]
     },
     "execution_count": 100,
     "metadata": {},
     "output_type": "execute_result"
    }
   ],
   "source": [
    "middle = len(second_page['lines'])//2\n",
    "second_page['lines'][middle:middle + 4]"
   ]
  },
  {
   "cell_type": "markdown",
   "metadata": {},
   "source": [
    "Feel free to explore the Gazette a bit more, and see the walkthrough notebooks for a description of how we knit text together and divide sections from each other. "
   ]
  },
  {
   "cell_type": "markdown",
   "metadata": {},
   "source": [
    "## FORM RECOGNIZER: LAYOUT API\n",
    "\n",
    "The Layout API is more expensive than the Read API, but it has the significant advantage of being able to read tables. \n",
    "\n",
    "Below is a walkthrough of the Form Recognizer API with the Gazette Vol. CXXI--No. 55, dated May 3rd, 2019, special issue. For brevity, we will only be looking at page 12, which contains a table. A copy is available [here](https://data.connectedafrica.net/entities/240946.0a895cc8dc72d87e618c8565f64c8a41c6d015fa#page=12). "
   ]
  },
  {
   "cell_type": "code",
   "execution_count": 37,
   "metadata": {},
   "outputs": [],
   "source": [
    "with open(\"test_formrec_layout_api_output.txt\") as f:\n",
    "    data = json.load(f)"
   ]
  },
  {
   "cell_type": "markdown",
   "metadata": {},
   "source": [
    "Note that the Layout API output contains all of the information that the Read API output contains, which is described above. However, there is **one additional key/value pair in the \"analyzeResult\" dictionary**: "
   ]
  },
  {
   "cell_type": "code",
   "execution_count": 66,
   "metadata": {},
   "outputs": [
    {
     "data": {
      "text/plain": [
       "dict_keys(['version', 'readResults', 'pageResults'])"
      ]
     },
     "execution_count": 66,
     "metadata": {},
     "output_type": "execute_result"
    }
   ],
   "source": [
    "data['analyzeResult'].keys()"
   ]
  },
  {
   "cell_type": "markdown",
   "metadata": {},
   "source": [
    "This `pageResults` element is the information that the Form Recognizer API provides that the Read API doesn't. "
   ]
  },
  {
   "cell_type": "markdown",
   "metadata": {},
   "source": [
    "### 1. Information in readResults: same as that in the Read API.  "
   ]
  },
  {
   "cell_type": "code",
   "execution_count": 53,
   "metadata": {},
   "outputs": [],
   "source": [
    "page_12 = data['analyzeResult']['readResults'][0]['lines']"
   ]
  },
  {
   "cell_type": "markdown",
   "metadata": {},
   "source": [
    "(Again, the JSON that we are drawing from only contains the output of the 12th page.) \n",
    "\n",
    "When we look at what is contained in `readResults`, we get the same information that the Read API would have given us. \n",
    "\n",
    "Here are a few arbitrary lines from the page, which correspond with cells on the table. You can clearly see that these happen to correspond with cells in the second row of the table (21. Tana Water Services Board, 6,600,000.00). Each cell is associated with a boundingBox, the geometric coordinates of where it is located."
   ]
  },
  {
   "cell_type": "code",
   "execution_count": 55,
   "metadata": {},
   "outputs": [
    {
     "data": {
      "text/plain": [
       "[{'boundingBox': [1.6505,\n",
       "   1.0029,\n",
       "   1.7783,\n",
       "   1.0029,\n",
       "   1.7783,\n",
       "   1.0783,\n",
       "   1.6505,\n",
       "   1.0783],\n",
       "  'text': '21.',\n",
       "  'words': [{'boundingBox': [1.6505,\n",
       "     1.0029,\n",
       "     1.7783,\n",
       "     1.0029,\n",
       "     1.7783,\n",
       "     1.0783,\n",
       "     1.6505,\n",
       "     1.0783],\n",
       "    'text': '21.',\n",
       "    'confidence': 1}]},\n",
       " {'boundingBox': [2.0724,\n",
       "   1.0021,\n",
       "   3.294,\n",
       "   1.0021,\n",
       "   3.294,\n",
       "   1.0787,\n",
       "   2.0724,\n",
       "   1.0787],\n",
       "  'text': 'Tana Water Services Board',\n",
       "  'words': [{'boundingBox': [2.0724,\n",
       "     1.0044,\n",
       "     2.292,\n",
       "     1.0044,\n",
       "     2.292,\n",
       "     1.0782,\n",
       "     2.0724,\n",
       "     1.0782],\n",
       "    'text': 'Tana',\n",
       "    'confidence': 1},\n",
       "   {'boundingBox': [2.3211,\n",
       "     1.0044,\n",
       "     2.5918,\n",
       "     1.0044,\n",
       "     2.5918,\n",
       "     1.0783,\n",
       "     2.3211,\n",
       "     1.0783],\n",
       "    'text': 'Water',\n",
       "    'confidence': 1},\n",
       "   {'boundingBox': [2.6244,\n",
       "     1.0021,\n",
       "     2.9913,\n",
       "     1.0021,\n",
       "     2.9913,\n",
       "     1.0787,\n",
       "     2.6244,\n",
       "     1.0787],\n",
       "    'text': 'Services',\n",
       "    'confidence': 1},\n",
       "   {'boundingBox': [3.0259,\n",
       "     1.0021,\n",
       "     3.294,\n",
       "     1.0021,\n",
       "     3.294,\n",
       "     1.0782,\n",
       "     3.0259,\n",
       "     1.0782],\n",
       "    'text': 'Board',\n",
       "    'confidence': 1}]},\n",
       " {'boundingBox': [5.2754,\n",
       "   1.0029,\n",
       "   5.8506,\n",
       "   1.0029,\n",
       "   5.8506,\n",
       "   1.0926,\n",
       "   5.2754,\n",
       "   1.0926],\n",
       "  'text': '6,600,000.00',\n",
       "  'words': [{'boundingBox': [5.2754,\n",
       "     1.0029,\n",
       "     5.8506,\n",
       "     1.0029,\n",
       "     5.8506,\n",
       "     1.0926,\n",
       "     5.2754,\n",
       "     1.0926],\n",
       "    'text': '6,600,000.00',\n",
       "    'confidence': 1}]}]"
      ]
     },
     "execution_count": 55,
     "metadata": {},
     "output_type": "execute_result"
    }
   ],
   "source": [
    "page_12[7:10]"
   ]
  },
  {
   "cell_type": "markdown",
   "metadata": {},
   "source": [
    "### 2. The `pageResults` list: an additional representation of each page, with a list of the tables on that page"
   ]
  },
  {
   "cell_type": "code",
   "execution_count": 68,
   "metadata": {},
   "outputs": [],
   "source": [
    "page_results = data['analyzeResult']['pageResults']"
   ]
  },
  {
   "cell_type": "markdown",
   "metadata": {},
   "source": [
    "Like `readResults`, `pageResults` is a list, in which each element is a dictionary representing a single page that contains a table. "
   ]
  },
  {
   "cell_type": "code",
   "execution_count": 69,
   "metadata": {},
   "outputs": [
    {
     "data": {
      "text/plain": [
       "list"
      ]
     },
     "execution_count": 69,
     "metadata": {},
     "output_type": "execute_result"
    }
   ],
   "source": [
    "type(page_results)"
   ]
  },
  {
   "cell_type": "code",
   "execution_count": 70,
   "metadata": {},
   "outputs": [],
   "source": [
    "page_12_results = page_results[0]"
   ]
  },
  {
   "cell_type": "markdown",
   "metadata": {},
   "source": [
    "The dictionary that represents a page contains two keys: \n",
    "* Page: the page number (begins indexing at 1)\n",
    "* Tables: a list of the tables on the page"
   ]
  },
  {
   "cell_type": "code",
   "execution_count": 80,
   "metadata": {},
   "outputs": [
    {
     "name": "stdout",
     "output_type": "stream",
     "text": [
      "Keys for the page: dict_keys(['page', 'tables'])\n",
      "Page number: 1\n",
      "Number of tables on the page: 1\n"
     ]
    }
   ],
   "source": [
    "print(\"Keys for the page: \" + str(page_12_results.keys()))\n",
    "print(\"Page number: \" + str(page_12_results['page']))\n",
    "print(\"Number of tables on the page: \" + str(len(page_12_results['tables'])))"
   ]
  },
  {
   "cell_type": "markdown",
   "metadata": {},
   "source": [
    "### 3. A table on a page\n",
    "\n",
    "A table is represented as a dictionary with the following keys: \n",
    "* Rows: The number of rows in the table\n",
    "* Columns: The number of columns on the table\n",
    "* Cells: Information about the location and contents of each cell in the table.\n",
    "\n",
    "If you look at the original PDF, you will notice that the table actually has 81 rows (indexed 20-100). This suggests that the Form Recognizer API is not perfectly dividing cells. "
   ]
  },
  {
   "cell_type": "code",
   "execution_count": 81,
   "metadata": {},
   "outputs": [],
   "source": [
    "table = page_12_results['tables'][0]"
   ]
  },
  {
   "cell_type": "code",
   "execution_count": 87,
   "metadata": {},
   "outputs": [
    {
     "name": "stdout",
     "output_type": "stream",
     "text": [
      "Keys for the table: dict_keys(['rows', 'columns', 'cells'])\n",
      "Number of rows: 78\n",
      "Number of columns: 3\n"
     ]
    }
   ],
   "source": [
    "print(\"Keys for the table: \" + str(table.keys()))\n",
    "print(\"Number of rows: \" + str(table['rows']))\n",
    "print(\"Number of columns: \" + str(table['columns']))"
   ]
  },
  {
   "cell_type": "markdown",
   "metadata": {},
   "source": [
    "### 4. Cells in a table"
   ]
  },
  {
   "cell_type": "markdown",
   "metadata": {},
   "source": [
    "Each cell is a dictionary with: \n",
    "* `rowIndex`: index of the row (starts at 0)\n",
    "* `columnIndex`: index of the column (starts at 0)\n",
    "* `text`: text in the cell\n",
    "* `boundingBox`: bounding box (list of x-y coordinates of each of the four corners for that cell)\n",
    "* `elements`: a pathway to the elements in the readResults list: `readResults/[page index]/lines/[line index]/words/[word index]`. \n",
    "\n",
    "Here is what an arbitrary cell in a table looks like: "
   ]
  },
  {
   "cell_type": "code",
   "execution_count": 92,
   "metadata": {},
   "outputs": [
    {
     "data": {
      "text/plain": [
       "{'rowIndex': 3,\n",
       " 'columnIndex': 1,\n",
       " 'text': 'Nairobi Centre for International Arbitration',\n",
       " 'boundingBox': [2.0356,\n",
       "  1.2322,\n",
       "  5.2356,\n",
       "  1.2322,\n",
       "  5.2356,\n",
       "  1.3589,\n",
       "  2.0356,\n",
       "  1.3589],\n",
       " 'elements': ['#/readResults/0/lines/14/words/0',\n",
       "  '#/readResults/0/lines/14/words/1',\n",
       "  '#/readResults/0/lines/14/words/2',\n",
       "  '#/readResults/0/lines/14/words/3',\n",
       "  '#/readResults/0/lines/14/words/4']}"
      ]
     },
     "execution_count": 92,
     "metadata": {},
     "output_type": "execute_result"
    }
   ],
   "source": [
    "table['cells'][10]"
   ]
  },
  {
   "cell_type": "markdown",
   "metadata": {},
   "source": [
    "If we wanted to find the elements in the table as they are represented by the `readResults` portion, we could follow the path outlined in `elements` to get the text: "
   ]
  },
  {
   "cell_type": "code",
   "execution_count": 96,
   "metadata": {},
   "outputs": [
    {
     "data": {
      "text/plain": [
       "{'boundingBox': [2.0719, 1.2588, 2.407, 1.2588, 2.407, 1.335, 2.0719, 1.335],\n",
       " 'text': 'Nairobi',\n",
       " 'confidence': 1}"
      ]
     },
     "execution_count": 96,
     "metadata": {},
     "output_type": "execute_result"
    }
   ],
   "source": [
    "data['analyzeResult']['readResults'][0]['lines'][14]['words'][0]"
   ]
  },
  {
   "cell_type": "code",
   "execution_count": 97,
   "metadata": {},
   "outputs": [
    {
     "data": {
      "text/plain": [
       "{'boundingBox': [2.4409,\n",
       "  1.2595,\n",
       "  2.7314,\n",
       "  1.2595,\n",
       "  2.7314,\n",
       "  1.3353,\n",
       "  2.4409,\n",
       "  1.3353],\n",
       " 'text': 'Centre',\n",
       " 'confidence': 1}"
      ]
     },
     "execution_count": 97,
     "metadata": {},
     "output_type": "execute_result"
    }
   ],
   "source": [
    "data['analyzeResult']['readResults'][0]['lines'][14]['words'][1]"
   ]
  },
  {
   "cell_type": "markdown",
   "metadata": {},
   "source": [
    "We did not develop an approach for knitting tables together and including them in the text of a page, unfortunately. However, we believe that this would be relatively simple to do, given the information provided in the `pageResults` dictionary and the ease with which one can cross-reference its elements with the `readResults` output. "
   ]
  }
 ],
 "metadata": {
  "kernelspec": {
   "display_name": "py37_default",
   "language": "python",
   "name": "conda-env-py37_default-py"
  },
  "language_info": {
   "codemirror_mode": {
    "name": "ipython",
    "version": 3
   },
   "file_extension": ".py",
   "mimetype": "text/x-python",
   "name": "python",
   "nbconvert_exporter": "python",
   "pygments_lexer": "ipython3",
   "version": "3.7.7"
  }
 },
 "nbformat": 4,
 "nbformat_minor": 4
}
