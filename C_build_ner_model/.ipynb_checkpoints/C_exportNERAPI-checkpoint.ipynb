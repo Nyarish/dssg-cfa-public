{
 "cells": [
  {
   "cell_type": "code",
   "execution_count": null,
   "metadata": {},
   "outputs": [],
   "source": [
    "# -----------------------------------------------------------\n",
    "# Create an API to pull entities using our spaCy model.\n",
    "# \n",
    "# Written primarily by Robbie, who stole T's code from export_entities_for_relation_extraction\n",
    "# -----------------------------------------------------------"
   ]
  },
  {
   "cell_type": "code",
   "execution_count": 6,
   "metadata": {},
   "outputs": [],
   "source": [
    "import os\n",
    "import spacy\n",
    "\n",
    "ROUTETOROOTDIR = '/home/dssg-cfa/notebooks/dssg-cfa/'\n",
    "IMPORTSCRIPTSDIR = ROUTETOROOTDIR + \"pdf_to_text/Post-Processing/py_files\"\n",
    "os.chdir(IMPORTSCRIPTSDIR)\n",
    "import trainingDataForSpaCy"
   ]
  },
  {
   "cell_type": "code",
   "execution_count": 3,
   "metadata": {},
   "outputs": [],
   "source": [
    "# The current best model is stored in this directory\n",
    "local_output_dir = '/home/dssg-cfa/notebooks/dssg-cfa/NER/T/spaCy/Modified_NER/custom_model_modified_and_improved/'\n",
    "os.chdir(local_output_dir)\n",
    "\n",
    "nlp = spacy.load(local_output_dir)   # load the model"
   ]
  },
  {
   "cell_type": "code",
   "execution_count": 4,
   "metadata": {},
   "outputs": [],
   "source": [
    "def getListOfTexts(gazetteNum):\n",
    "    \"\"\"API to training data for spaCy: returns a list of all inner texts from a given gazette.\n",
    "    \n",
    "    args:\n",
    "    gazetteNum: index of pre-processing gazette from list within trainDataForSpaCy.\n",
    "    \n",
    "    returns: list, each entry of which is an inner text (cleaned, no headers or footers).\"\"\"\n",
    "    \n",
    "    return [data[0] for data in trainingDataForSpaCy.exportTrainData(gazetteNum)]\n",
    "\n",
    "def getNEROutput(gazetteNum):\n",
    "    \"\"\"For a given gazette number, call spaCy NER on each segment and return the outputs.\n",
    "    \n",
    "    args:\n",
    "    gazetteNum: index of pre-processing gazette from list within trainDataForSpaCy.\n",
    "    \n",
    "    returns: a nested list.\n",
    "        Outer list: each item contains NER outputs for one segment.\n",
    "        inner list: each item is an NER tag for a single segment in tuple format.\n",
    "        items in inner list: (label, text)\n",
    "            label: entity tag\n",
    "            text: text corresponding to said tag.\"\"\"\n",
    "    \n",
    "    rawText = getListOfTexts(gazetteNum)\n",
    "    docs = [nlp(segment) for segment in rawText]\n",
    "    ret = []\n",
    "    for doc in docs:\n",
    "        ret.append([(ent.label_, ent.text) for ent in doc.ents])\n",
    "    return ret"
   ]
  },
  {
   "cell_type": "code",
   "execution_count": 9,
   "metadata": {},
   "outputs": [],
   "source": []
  }
 ],
 "metadata": {
  "kernelspec": {
   "display_name": "py37_default",
   "language": "python",
   "name": "conda-env-py37_default-py"
  },
  "language_info": {
   "codemirror_mode": {
    "name": "ipython",
    "version": 3
   },
   "file_extension": ".py",
   "mimetype": "text/x-python",
   "name": "python",
   "nbconvert_exporter": "python",
   "pygments_lexer": "ipython3",
   "version": "3.7.7"
  }
 },
 "nbformat": 4,
 "nbformat_minor": 4
}
