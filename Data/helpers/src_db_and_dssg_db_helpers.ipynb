{
 "cells": [
  {
   "cell_type": "code",
   "execution_count": 22,
   "metadata": {},
   "outputs": [],
   "source": [
    "import json\n",
    "\n",
    "fn_map_file = \"filename_map_to_database.txt\"\n",
    "\n",
    "with open(fn_map_file) as f:\n",
    "    curr_fn_to_src = json.load(f)"
   ]
  },
  {
   "cell_type": "code",
   "execution_count": 25,
   "metadata": {},
   "outputs": [],
   "source": [
    "# initialize \n",
    "\n",
    "def add_elems(elem_lst, fn, dic):\n",
    "    for elem in elem_lst: \n",
    "        if elem not in dic:\n",
    "            dic[elem] = []\n",
    "        dic[elem].append(fn)\n",
    "\n",
    "def flip_dictionary(curr_fn_to_src):\n",
    "    src_fn_to_curr, docidnum_map = {}, {}\n",
    "    for gazette_name in curr_fn_to_src: \n",
    "        gazette_info = curr_fn_to_src[gazette_name]\n",
    "        if 'src_database' not in gazette_info: # skip empty, failed gazettes\n",
    "            continue\n",
    "        add_elems(gazette_info['names_in_db'], gazette_name, src_fn_to_curr)\n",
    "        if 'docids' in gazette_info: \n",
    "            add_elems(gazette_info['docids'], gazette_name, docidnum_map)\n",
    "        if 'docnums' in gazette_info: \n",
    "            add_elems(gazette_info['docnums'], gazette_name, docidnum_map)\n",
    "    return src_fn_to_curr, docidnum_map\n",
    "\n",
    "src_fn_to_curr, docnum_map = flip_dictionary(curr_fn_to_src)"
   ]
  },
  {
   "cell_type": "code",
   "execution_count": 26,
   "metadata": {},
   "outputs": [],
   "source": []
  },
  {
   "cell_type": "code",
   "execution_count": 8,
   "metadata": {},
   "outputs": [],
   "source": [
    "def get_names_in_src_db(curr_fn): \n",
    "    '''\n",
    "    Given name in the DSSG database, return document names from the source database\n",
    "    that correspond with the Gazette. \n",
    "    '''\n",
    "    lst_ca = []\n",
    "    lst_gaz = []\n",
    "    for name in curr_fn_to_src[fn]['names_in_db']:\n",
    "        if \"gazette-ke-\" in name: \n",
    "            lst_ca.append(name)\n",
    "        if \"opengazettes\" in name: \n",
    "            lst_gaz.append(name)\n",
    "    return {\"connected-africa\": lst_ca, \"gazeti\": lst_gaz}"
   ]
  },
  {
   "cell_type": "code",
   "execution_count": 7,
   "metadata": {},
   "outputs": [],
   "source": [
    "def get_ids_and_nums(curr_fn):\n",
    "    '''\n",
    "    Given name in the DSSG database, return document IDs and document numbers\n",
    "    from the source databases that correspond with the Gazette.\n",
    "    '''\n",
    "    return [curr_fn_to_src[fn]['docids'], curr_fn_to_src[fn]['docnums']]"
   ]
  },
  {
   "cell_type": "code",
   "execution_count": 32,
   "metadata": {},
   "outputs": [],
   "source": [
    "def get_name_in_dssg_db(docNumOrId = None, srcDBName = None):\n",
    "    '''\n",
    "    Given a filename or document identifier from the *source* database \n",
    "    (Conn. Af. or Gazeti), return its corresponding filename in the DSSG-generated database. \n",
    "    '''\n",
    "    if docNumOrId: \n",
    "        if docNumOrId not in docnum_map: \n",
    "            print(\"No corresponding file for this document number/id\")\n",
    "            return None\n",
    "        return docnum_map[docNumOrId]\n",
    "    if srcDBName:\n",
    "        if srcDBName not in src_fn_to_curr: \n",
    "            print(\"No corresponding file for this document name\")\n",
    "            return None\n",
    "        return src_fn_to_curr[srcDBName]"
   ]
  }
 ],
 "metadata": {
  "kernelspec": {
   "display_name": "py37_default",
   "language": "python",
   "name": "conda-env-py37_default-py"
  },
  "language_info": {
   "codemirror_mode": {
    "name": "ipython",
    "version": 3
   },
   "file_extension": ".py",
   "mimetype": "text/x-python",
   "name": "python",
   "nbconvert_exporter": "python",
   "pygments_lexer": "ipython3",
   "version": "3.7.7"
  }
 },
 "nbformat": 4,
 "nbformat_minor": 4
}
