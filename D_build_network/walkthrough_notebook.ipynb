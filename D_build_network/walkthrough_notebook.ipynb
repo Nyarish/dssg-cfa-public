{
 "cells": [
  {
   "cell_type": "code",
   "execution_count": null,
   "metadata": {},
   "outputs": [],
   "source": [
    "# -----------------------------------------------------------\n",
    "# Walk through this directory, showing how each file contributes\n",
    "# to the overall pipeline.\n",
    "# -----------------------------------------------------------"
   ]
  },
  {
   "cell_type": "code",
   "execution_count": 3,
   "metadata": {},
   "outputs": [],
   "source": [
    "# for others to use this script, it will help to change this variable to\n",
    "# whatever the route it to the root of your dssg-cfa folder.\n",
    "ROUTETOROOTDIR = '/home/dssg-cfa/notebooks/dssg-cfa-public/'\n",
    "IMPORTSCRIPTSDIR = ROUTETOROOTDIR + \"util/py_files\"\n",
    "UTILDIR = ROUTETOROOTDIR + 'util'\n",
    "JSONSDIR = ROUTETOROOTDIR + 'A_pdf_to_text/jsons_ke_gazettes/'\n",
    "CSVTRAINDIR = ROUTETOROOTDIR + 'B_text_preprocessing/csv_outputs_train/'\n",
    "CSVTESTDIR = ROUTETOROOTDIR + 'B_text_preprocessing/csv_outputs_test/'\n",
    "import os\n",
    "import json \n",
    "import matplotlib.pyplot as plt\n",
    "import random\n",
    "import numpy as np\n",
    "from sklearn.cluster import KMeans\n",
    "\n",
    "os.chdir(IMPORTSCRIPTSDIR)\n",
    "import setup\n",
    "os.chdir(IMPORTSCRIPTSDIR)\n",
    "import C_exportNERAPI\n",
    "os.chdir(IMPORTSCRIPTSDIR)\n",
    "import networkClasses\n",
    "os.chdir(IMPORTSCRIPTSDIR)\n",
    "import networkInfrastructure"
   ]
  },
  {
   "cell_type": "markdown",
   "metadata": {},
   "source": [
    "In this demonstration below we will show how to use NER output from a gazette to build a network. The PDF we are processing can be found [here](https://data.connectedafrica.net/entities/241300.cc2c2a9f7521d1ce81135cffde04cb83de9111e6#page=3), although these links change, so it might also help to try [here](https://data.connectedafrica.net/search?filter%3Acollection_id=18&limit=30&q=%2205-July-2019%22)."
   ]
  },
  {
   "cell_type": "markdown",
   "metadata": {},
   "source": [
    "Let's pick up where we left off, by loading NER output for a single gazette segment."
   ]
  },
  {
   "cell_type": "code",
   "execution_count": 4,
   "metadata": {},
   "outputs": [
    {
     "data": {
      "text/plain": [
       "[('PERSON', 'Abdalla Mohamed Abdalla'),\n",
       " ('OWNER ADDRESS', 'P.O. Box 90145, Mombasa in the Republic of Kenya'),\n",
       " ('LAND SIZE', '0.0163 hectare'),\n",
       " ('ORG', 'Plot'),\n",
       " ('ORG', 'Mombasa/Block XVI/598'),\n",
       " ('LOC', ', in'),\n",
       " ('DISTRICT', 'Mombasa'),\n",
       " ('DEED STATUS', 'lost'),\n",
       " ('DATE', '60) days')]"
      ]
     },
     "execution_count": 4,
     "metadata": {},
     "output_type": "execute_result"
    }
   ],
   "source": [
    "C_exportNERAPI.getNEROutput(0)[0]"
   ]
  },
  {
   "cell_type": "markdown",
   "metadata": {},
   "source": [
    "This pulls a lot more than our regexs did, but also has some false positives.\n",
    "\n",
    "Next, let's load group these entities into some objects that actually make sense. First we need to collect all the data in one place..."
   ]
  },
  {
   "cell_type": "code",
   "execution_count": 5,
   "metadata": {},
   "outputs": [
    {
     "data": {
      "text/plain": [
       "([('PERSON', 'Abdalla Mohamed Abdalla'),\n",
       "  ('OWNER ADDRESS', 'P.O. Box 90145, Mombasa in the Republic of Kenya'),\n",
       "  ('LAND SIZE', '0.0163 hectare'),\n",
       "  ('ORG', 'Plot'),\n",
       "  ('ORG', 'Mombasa/Block XVI/598'),\n",
       "  ('LOC', ', in'),\n",
       "  ('DISTRICT', 'Mombasa'),\n",
       "  ('DEED STATUS', 'lost'),\n",
       "  ('DATE', '60) days')],\n",
       " name                                           Abdalla Mohamed Abdalla\n",
       " address               P.O. Box 90145, Mombasa in the Republic of Kenya\n",
       " land size                                               0.0163 hectare\n",
       " district                                                           NaN\n",
       " title number                                                       NaN\n",
       " plot number                                                        NaN\n",
       " LR number                                                          NaN\n",
       " grant number                                                       NaN\n",
       " signator                                                 J. G. WANJOHI\n",
       " signator role                                      Registrar of Titles\n",
       " signator location                                              Mombasa\n",
       " date                                                    5th July, 2019\n",
       " notice number                                                     5866\n",
       " title                                        THE LAND REGISTRATION ACT\n",
       " subtitles                           ISSUE OF A PROVISIONAL CERTIFICATE\n",
       " MR number                                                   MR/6508092\n",
       " act number                                        \\n(No. 3 of 2012) \\n\n",
       " inner text           WHEREAS Abdalla Mohamed Abdalla, of P.O. Box 9...\n",
       " text                 GAZETTE NOTICE NO. 5866 \\nTHE LAND REGISTRATIO...\n",
       " Name: 0, dtype: object)"
      ]
     },
     "execution_count": 5,
     "metadata": {},
     "output_type": "execute_result"
    }
   ],
   "source": [
    "data = networkClasses.getAllDataOneGazette(0)[0]\n",
    "data"
   ]
  },
  {
   "cell_type": "markdown",
   "metadata": {},
   "source": [
    "Then we can group all these varied data points into entities."
   ]
  },
  {
   "cell_type": "code",
   "execution_count": 6,
   "metadata": {},
   "outputs": [
    {
     "name": "stdout",
     "output_type": "stream",
     "text": [
      "Person node: \n",
      "Name: Abdalla Mohamed Abdalla.\n",
      "Address: P.O. Box 90145, Mombasa in the Republic of Kenya.\n",
      "District: ['Mombasa'].\n",
      "\n",
      "Org node: \n",
      "Name: Mombasa/Block XVI/598.\n",
      "Address: P.O. Box 90145, Mombasa in the Republic of Kenya.\n",
      "District: ['Mombasa'].\n",
      "\n",
      "Org node: \n",
      "Name: Plot.\n",
      "Address: P.O. Box 90145, Mombasa in the Republic of Kenya.\n",
      "District: ['Mombasa'].\n",
      "\n",
      "Land node: \n",
      "Location: , in.\n",
      "Size: 0.0163 hectare.\n",
      "District: Mombasa.\n",
      "\n",
      "Edge between person or organization and land.\n",
      "Deed Status: ['lost'].\n",
      "Date of Announcement: 5th July, 2019.\n",
      "MR Number: MR/6508092.\n",
      "\n",
      "Signator object. \n",
      "Name: J. G. WANJOHI\n",
      "Location: Mombasa\n",
      "Role:  Registrar of Titles\n",
      "\n"
     ]
    }
   ],
   "source": [
    "objects = networkClasses.processNERSegment(data[0],data[1])\n",
    "networkClasses.printResults(objects)"
   ]
  },
  {
   "cell_type": "markdown",
   "metadata": {},
   "source": [
    "Those extra org classifications from the spaCy output certainly are frustrating, but hopefully the general way in which we create few objects out of many entities makes sense. This is all shown in great detail in networkClasses.ipynb.\n",
    "\n",
    "Next, we will generate a whole bunch of entities and connections from our singular gazette, and put them into a csv file for you to explore with your favorite network visualization tool! We can easily expand to more gazettes just by running them through the rest of the pipeline."
   ]
  },
  {
   "cell_type": "code",
   "execution_count": 7,
   "metadata": {},
   "outputs": [],
   "source": [
    "%%capture\n",
    "# above is to prevent annoying output.\n",
    "networkInfrastructure.saveGraph(sizeSample = 1, districtEdges = True, addressEdges = True)\n",
    "# district edges: draw a very weak connection between entities within the same district\n",
    "# address edges: draw a medium strength connection between entities with the same address"
   ]
  }
 ],
 "metadata": {
  "kernelspec": {
   "display_name": "py37_default",
   "language": "python",
   "name": "conda-env-py37_default-py"
  },
  "language_info": {
   "codemirror_mode": {
    "name": "ipython",
    "version": 3
   },
   "file_extension": ".py",
   "mimetype": "text/x-python",
   "name": "python",
   "nbconvert_exporter": "python",
   "pygments_lexer": "ipython3",
   "version": "3.7.7"
  }
 },
 "nbformat": 4,
 "nbformat_minor": 4
}
