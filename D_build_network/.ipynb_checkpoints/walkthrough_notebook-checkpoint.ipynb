{
 "cells": [
  {
   "cell_type": "code",
   "execution_count": null,
   "metadata": {},
   "outputs": [],
   "source": [
    "# -----------------------------------------------------------\n",
    "# Walk through this directory, showing how each file contributes\n",
    "# to the overall pipeline.\n",
    "# -----------------------------------------------------------"
   ]
  },
  {
   "cell_type": "code",
   "execution_count": 2,
   "metadata": {},
   "outputs": [],
   "source": [
    "# for others to use this script, it will help to change this variable to\n",
    "# whatever the route it to the root of your dssg-cfa folder.\n",
    "ROUTETOROOTDIR = '/home/dssg-cfa/notebooks/dssg-cfa-public/'\n",
    "IMPORTSCRIPTSDIR = ROUTETOROOTDIR + \"util/py_files\"\n",
    "UTILDIR = ROUTETOROOTDIR + 'util'\n",
    "JSONSDIR = ROUTETOROOTDIR + 'A_pdf_to_text/jsons_ke_gazettes/'\n",
    "CSVTRAINDIR = ROUTETOROOTDIR + 'B_text_preprocessing/csv_outputs_train/'\n",
    "CSVTESTDIR = ROUTETOROOTDIR + 'B_text_preprocessing/csv_outputs_test/'\n",
    "import os\n",
    "import json \n",
    "import matplotlib.pyplot as plt\n",
    "import random\n",
    "import numpy as np\n",
    "from sklearn.cluster import KMeans\n",
    "\n",
    "os.chdir(IMPORTSCRIPTSDIR)\n",
    "import setup\n",
    "os.chdir(IMPORTSCRIPTSDIR)\n",
    "import C_exportNERAPI\n",
    "os.chdir(IMPORTSCRIPTSDIR)\n",
    "import networkClasses\n",
    "os.chdir(IMPORTSCRIPTSDIR)\n",
    "import networkInfrastructure"
   ]
  },
  {
   "cell_type": "markdown",
   "metadata": {},
   "source": [
    "In this demonstration below we will show how to use NER output from a gazette to build a network. The PDF we are processing can be found [here](https://data.connectedafrica.net/entities/241300.cc2c2a9f7521d1ce81135cffde04cb83de9111e6#page=3), although these links change, so it might also help to try [here](https://data.connectedafrica.net/search?filter%3Acollection_id=18&limit=30&q=%2205-July-2019%22)."
   ]
  },
  {
   "cell_type": "markdown",
   "metadata": {},
   "source": [
    "Let's pick up where we left off, by loading NER output for a single gazette segment."
   ]
  },
  {
   "cell_type": "code",
   "execution_count": 3,
   "metadata": {},
   "outputs": [
    {
     "data": {
      "text/plain": [
       "[('CARDINAL', '1'),\n",
       " ('PERSON', 'Hussein Mahfudh Jeizan'),\n",
       " ('CARDINAL', '2'),\n",
       " ('PERSON', 'Mohammed Mahfudh Jeizan'),\n",
       " ('PERSON', 'Mahfudh Ahmed Jeizan'),\n",
       " ('OWNER ADDRESS', 'P.O. Box 4321–00506, Nairobi in the Republic of Kenya'),\n",
       " ('LAND REGISTRATION', 'L.R. number 209/11092/77'),\n",
       " ('LOC', 'in the city of Nairobi'),\n",
       " ('LOC', 'the Nairobi Area'),\n",
       " ('CARDINAL', '77900/1'),\n",
       " ('DEED STATUS', 'lost'),\n",
       " ('DATE', '60) days')]"
      ]
     },
     "execution_count": 3,
     "metadata": {},
     "output_type": "execute_result"
    }
   ],
   "source": [
    "C_exportNERAPI.getNEROutput(0)[0]"
   ]
  },
  {
   "cell_type": "markdown",
   "metadata": {},
   "source": [
    "This pulls a lot more than our regexs did, but also has some false positives.\n",
    "\n",
    "Next, let's load group these entities into some objects that actually make sense. First we need to collect all the data in one place..."
   ]
  },
  {
   "cell_type": "code",
   "execution_count": 4,
   "metadata": {},
   "outputs": [
    {
     "data": {
      "text/plain": [
       "([('CARDINAL', '1'),\n",
       "  ('PERSON', 'Hussein Mahfudh Jeizan'),\n",
       "  ('CARDINAL', '2'),\n",
       "  ('PERSON', 'Mohammed Mahfudh Jeizan'),\n",
       "  ('PERSON', 'Mahfudh Ahmed Jeizan'),\n",
       "  ('OWNER ADDRESS', 'P.O. Box 4321–00506, Nairobi in the Republic of Kenya'),\n",
       "  ('LAND REGISTRATION', 'L.R. number 209/11092/77'),\n",
       "  ('LOC', 'in the city of Nairobi'),\n",
       "  ('LOC', 'the Nairobi Area'),\n",
       "  ('CARDINAL', '77900/1'),\n",
       "  ('DEED STATUS', 'lost'),\n",
       "  ('DATE', '60) days')],\n",
       " name                 (1) Hussein Mahfudh Jeizan and (2) Mohammed Ma...\n",
       " address              P.O. Box 4321–00506, Nairobi in the Republic o...\n",
       " land size                                                          NaN\n",
       " district                       the city of Nairobi in the Nairobi Area\n",
       " title number                                                       NaN\n",
       " plot number                                                        NaN\n",
       " LR number                                        L.R. No. 209/11092/77\n",
       " grant number                                                       NaN\n",
       " signator                                                 G. M. MUYANGA\n",
       " signator role                                      Registrar of Titles\n",
       " signator location                                              Nairobi\n",
       " date                                                 6th October, 2017\n",
       " notice number                                                     9808\n",
       " title                                        THE LAND REGISTRATION ACT\n",
       " subtitles                           ISSUE OF A PROVISIONAL CERTIFICATE\n",
       " MR number                                                   MR/3567528\n",
       " act number                                        \\n(No. 3 of 2012) \\n\n",
       " inner text           WHEREAS (1) Hussein Mahfudh Jeizan and (2) Moh...\n",
       " text                 GAZETTE NOTICE NO. 9808 \\nTHE LAND REGISTRATIO...\n",
       " Name: 0, dtype: object)"
      ]
     },
     "execution_count": 4,
     "metadata": {},
     "output_type": "execute_result"
    }
   ],
   "source": [
    "data = networkClasses.getAllDataOneGazette(0)[0]\n",
    "data"
   ]
  },
  {
   "cell_type": "markdown",
   "metadata": {},
   "source": [
    "Then we can group all these varied data points into entities."
   ]
  },
  {
   "cell_type": "code",
   "execution_count": 5,
   "metadata": {},
   "outputs": [
    {
     "name": "stdout",
     "output_type": "stream",
     "text": [
      "Person node: \n",
      "Name: Mahfudh Ahmed Jeizan.\n",
      "Address: P.O. Box 4321–00506, Nairobi in the Republic of Kenya.\n",
      "District: ['Nairobi'].\n",
      "\n",
      "Person node: \n",
      "Name: Mohammed Mahfudh Jeizan.\n",
      "Address: P.O. Box 4321–00506, Nairobi in the Republic of Kenya.\n",
      "District: ['Nairobi'].\n",
      "\n",
      "Person node: \n",
      "Name: Hussein Mahfudh Jeizan.\n",
      "Address: P.O. Box 4321–00506, Nairobi in the Republic of Kenya.\n",
      "District: ['Nairobi'].\n",
      "\n",
      "Land node: \n",
      "Land Registration: L.R. number 209/11092/77.\n",
      "Location: the Nairobi Area.\n",
      "\n",
      "Edge between person or organization and land.\n",
      "Deed Status: ['lost'].\n",
      "Date of Announcement: 6th October, 2017.\n",
      "MR Number: MR/3567528.\n",
      "\n",
      "Signator object. \n",
      "Name: G. M. MUYANGA\n",
      "Location: Nairobi\n",
      "Role:  Registrar of Titles\n",
      "\n"
     ]
    }
   ],
   "source": [
    "objects = networkClasses.processNERSegment(data[0],data[1])\n",
    "networkClasses.printResults(objects)"
   ]
  },
  {
   "cell_type": "markdown",
   "metadata": {},
   "source": [
    "Those extra org classifications from the spaCy output certainly are frustrating, but hopefully the general way in which we create few objects out of many entities makes sense. This is all shown in great detail in networkClasses.ipynb.\n",
    "\n",
    "Next, we will generate a whole bunch of entities and connections from our singular gazette, and put them into a csv file for you to explore with your favorite network visualization tool! We can easily expand to more gazettes just by running them through the rest of the pipeline."
   ]
  },
  {
   "cell_type": "code",
   "execution_count": 6,
   "metadata": {},
   "outputs": [],
   "source": [
    "%%capture\n",
    "# above is to prevent annoying output.\n",
    "networkInfrastructure.saveGraph(gazetteSelection = [0], districtEdges = True, addressEdges = True)\n",
    "# district edges: draw a very weak connection between entities within the same district\n",
    "# address edges: draw a medium strength connection between entities with the same address"
   ]
  },
  {
   "cell_type": "markdown",
   "metadata": {},
   "source": [
    "We can also generate a graph with all 10 of the gazettes we have to use."
   ]
  },
  {
   "cell_type": "code",
   "execution_count": 7,
   "metadata": {},
   "outputs": [],
   "source": [
    "%%capture\n",
    "networkInfrastructure.saveGraph(gazetteSelection = list(range(0,10)), districtEdges = True, addressEdges = True)"
   ]
  },
  {
   "cell_type": "code",
   "execution_count": null,
   "metadata": {},
   "outputs": [],
   "source": []
  }
 ],
 "metadata": {
  "kernelspec": {
   "display_name": "py37_default",
   "language": "python",
   "name": "conda-env-py37_default-py"
  },
  "language_info": {
   "codemirror_mode": {
    "name": "ipython",
    "version": 3
   },
   "file_extension": ".py",
   "mimetype": "text/x-python",
   "name": "python",
   "nbconvert_exporter": "python",
   "pygments_lexer": "ipython3",
   "version": "3.7.7"
  }
 },
 "nbformat": 4,
 "nbformat_minor": 4
}
